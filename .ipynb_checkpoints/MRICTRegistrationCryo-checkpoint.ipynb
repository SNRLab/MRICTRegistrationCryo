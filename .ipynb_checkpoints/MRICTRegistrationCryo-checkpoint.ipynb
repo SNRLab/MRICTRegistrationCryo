{
 "cells": [
  {
   "cell_type": "code",
   "execution_count": 1,
   "id": "6e548b25-b2bb-4e14-a00f-bb54de0751ed",
   "metadata": {},
   "outputs": [
    {
     "ename": "ImportError",
     "evalue": "dlopen(/Library/Frameworks/Python.framework/Versions/3.10/lib/python3.10/site-packages/vtkmodules/vtkCommonCore.cpython-310-darwin.so, 0x0002): Library not loaded: @rpath/libvtkWrappingPythonCore3.10-9.2.dylib\n  Referenced from: <45169F2A-CE00-3DA0-BFC5-B7C650905694> /Library/Frameworks/Python.framework/Versions/3.10/lib/python3.10/site-packages/vtkmodules/vtkCommonCore.cpython-310-darwin.so\n  Reason: tried: '/Library/Frameworks/Python.framework/Versions/3.10/lib/python3.10/site-packages/vtkmodules/libvtkWrappingPythonCore3.10-9.2.dylib' (no such file), '/Library/Frameworks/Python.framework/Versions/3.10/lib/python3.10/site-packages/vtkmodules/.dylibs/libvtkWrappingPythonCore3.10-9.2.dylib' (no such file), '/Library/Frameworks/Python.framework/Versions/3.10/lib/python3.10/site-packages/vtkmodules/../build/lib.macosx-10.10-x86_64-cpython-310/vtkmodules/.dylibs/libvtkWrappingPythonCore3.10-9.2.dylib' (no such file), '/Library/Frameworks/Python.framework/Versions/3.10/lib/python3.10/site-packages/vtkmodules/libvtkWrappingPythonCore3.10-9.2.dylib' (no such file), '/Library/Frameworks/Python.framework/Versions/3.10/lib/python3.10/site-packages/vtkmodules/.dylibs/libvtkWrappingPythonCore3.10-9.2.dylib' (no such file), '/Library/Frameworks/Python.framework/Versions/3.10/lib/python3.10/site-packages/vtkmodules/../build/lib.macosx-10.10-x86_64-cpython-310/vtkmodules/.dylibs/libvtkWrappingPythonCore3.10-9.2.dylib' (no such file), '/usr/lib/libvtkWrappingPythonCore3.10-9.2.dylib' (no such file, not in dyld cache)",
     "output_type": "error",
     "traceback": [
      "\u001b[0;31m---------------------------------------------------------------------------\u001b[0m",
      "\u001b[0;31mImportError\u001b[0m                               Traceback (most recent call last)",
      "\u001b[1;32m/Users/subhra/Desktop/CryoAblation/MRICTRegistration/MRICTRegistrationCryo.ipynb Cell 1\u001b[0m line \u001b[0;36m4\n\u001b[1;32m      <a href='vscode-notebook-cell:/Users/subhra/Desktop/CryoAblation/MRICTRegistration/MRICTRegistrationCryo.ipynb#W0sZmlsZQ%3D%3D?line=1'>2</a>\u001b[0m \u001b[39mimport\u001b[39;00m \u001b[39munittest\u001b[39;00m\n\u001b[1;32m      <a href='vscode-notebook-cell:/Users/subhra/Desktop/CryoAblation/MRICTRegistration/MRICTRegistrationCryo.ipynb#W0sZmlsZQ%3D%3D?line=2'>3</a>\u001b[0m \u001b[39m# from matplotlib.pyplot import get\u001b[39;00m\n\u001b[0;32m----> <a href='vscode-notebook-cell:/Users/subhra/Desktop/CryoAblation/MRICTRegistration/MRICTRegistrationCryo.ipynb#W0sZmlsZQ%3D%3D?line=3'>4</a>\u001b[0m \u001b[39mimport\u001b[39;00m \u001b[39mvtk\u001b[39;00m\u001b[39m,\u001b[39m \u001b[39mqt\u001b[39;00m\u001b[39m,\u001b[39m \u001b[39mctk\u001b[39;00m\u001b[39m,\u001b[39m \u001b[39mslicer\u001b[39;00m\n\u001b[1;32m      <a href='vscode-notebook-cell:/Users/subhra/Desktop/CryoAblation/MRICTRegistration/MRICTRegistrationCryo.ipynb#W0sZmlsZQ%3D%3D?line=4'>5</a>\u001b[0m \u001b[39mfrom\u001b[39;00m \u001b[39mslicer\u001b[39;00m\u001b[39m.\u001b[39;00m\u001b[39mScriptedLoadableModule\u001b[39;00m \u001b[39mimport\u001b[39;00m \u001b[39m*\u001b[39m\n\u001b[1;32m      <a href='vscode-notebook-cell:/Users/subhra/Desktop/CryoAblation/MRICTRegistration/MRICTRegistrationCryo.ipynb#W0sZmlsZQ%3D%3D?line=5'>6</a>\u001b[0m \u001b[39mfrom\u001b[39;00m \u001b[39msys\u001b[39;00m \u001b[39mimport\u001b[39;00m platform\n",
      "File \u001b[0;32m/Library/Frameworks/Python.framework/Versions/3.10/lib/python3.10/site-packages/vtk.py:4\u001b[0m\n\u001b[1;32m      1\u001b[0m \u001b[39m\"\"\"This is the vtk module\"\"\"\u001b[39;00m\n\u001b[1;32m      3\u001b[0m \u001b[39m# this module has the same contents as vtkmodules.all\u001b[39;00m\n\u001b[0;32m----> 4\u001b[0m \u001b[39mfrom\u001b[39;00m \u001b[39mvtkmodules\u001b[39;00m\u001b[39m.\u001b[39;00m\u001b[39mvtkCommonCore\u001b[39;00m \u001b[39mimport\u001b[39;00m \u001b[39m*\u001b[39m\n\u001b[1;32m      5\u001b[0m \u001b[39mfrom\u001b[39;00m \u001b[39mvtkmodules\u001b[39;00m\u001b[39m.\u001b[39;00m\u001b[39mvtkWebCore\u001b[39;00m \u001b[39mimport\u001b[39;00m \u001b[39m*\u001b[39m\n\u001b[1;32m      6\u001b[0m \u001b[39mfrom\u001b[39;00m \u001b[39mvtkmodules\u001b[39;00m\u001b[39m.\u001b[39;00m\u001b[39mvtkCommonMath\u001b[39;00m \u001b[39mimport\u001b[39;00m \u001b[39m*\u001b[39m\n",
      "\u001b[0;31mImportError\u001b[0m: dlopen(/Library/Frameworks/Python.framework/Versions/3.10/lib/python3.10/site-packages/vtkmodules/vtkCommonCore.cpython-310-darwin.so, 0x0002): Library not loaded: @rpath/libvtkWrappingPythonCore3.10-9.2.dylib\n  Referenced from: <45169F2A-CE00-3DA0-BFC5-B7C650905694> /Library/Frameworks/Python.framework/Versions/3.10/lib/python3.10/site-packages/vtkmodules/vtkCommonCore.cpython-310-darwin.so\n  Reason: tried: '/Library/Frameworks/Python.framework/Versions/3.10/lib/python3.10/site-packages/vtkmodules/libvtkWrappingPythonCore3.10-9.2.dylib' (no such file), '/Library/Frameworks/Python.framework/Versions/3.10/lib/python3.10/site-packages/vtkmodules/.dylibs/libvtkWrappingPythonCore3.10-9.2.dylib' (no such file), '/Library/Frameworks/Python.framework/Versions/3.10/lib/python3.10/site-packages/vtkmodules/../build/lib.macosx-10.10-x86_64-cpython-310/vtkmodules/.dylibs/libvtkWrappingPythonCore3.10-9.2.dylib' (no such file), '/Library/Frameworks/Python.framework/Versions/3.10/lib/python3.10/site-packages/vtkmodules/libvtkWrappingPythonCore3.10-9.2.dylib' (no such file), '/Library/Frameworks/Python.framework/Versions/3.10/lib/python3.10/site-packages/vtkmodules/.dylibs/libvtkWrappingPythonCore3.10-9.2.dylib' (no such file), '/Library/Frameworks/Python.framework/Versions/3.10/lib/python3.10/site-packages/vtkmodules/../build/lib.macosx-10.10-x86_64-cpython-310/vtkmodules/.dylibs/libvtkWrappingPythonCore3.10-9.2.dylib' (no such file), '/usr/lib/libvtkWrappingPythonCore3.10-9.2.dylib' (no such file, not in dyld cache)"
     ]
    }
   ],
   "source": [
    "import os\n",
    "import unittest\n",
    "# from matplotlib.pyplot import get\n",
    "import vtk, qt, ctk, slicer\n",
    "from slicer.ScriptedLoadableModule import *\n",
    "from sys import platform"
   ]
  },
  {
   "cell_type": "code",
   "execution_count": null,
   "id": "72f755e7-3ff7-45fc-b92e-8dcf344f99b2",
   "metadata": {},
   "outputs": [],
   "source": [
    "class MRICTRegistrationCryo(ScriptedLoadableModule):\n",
    "    \"\"\"Uses ScriptedLoadableModule base class, available at:\n",
    "    https://github.com/Slicer/Slicer/blob/main/Base/Python/slicer/ScriptedLoadableModule.py\n",
    "    \"\"\"\n",
    "\n",
    "    def __init__(self, parent):\n",
    "        ScriptedLoadableModule.__init__(self, parent)\n",
    "        self.parent.title = \"CryoAblation\"  \n",
    "        self.parent.categories = [\"Registration\"]  \n",
    "        self.parent.dependencies = []  \n",
    "        self.parent.contributors = [\"Subhra Sundar Goswami, Junichi Takuda\"]  \n",
    "        self.parent.helpText = \"\"\"\n",
    "\"\"\"\n",
    "        self.parent.helpText += self.getDefaultModuleDocumentationLink()\n",
    "        self.parent.acknowledgementText = \"\"\"\n",
    "\"\"\"\n",
    "        # Additional initialization step after application startup is complete\n",
    "        slicer.app.connect(\"startupCompleted()\", registerSampleData)\n",
    "        moduleDir = os.path.dirname(self.parent.path)\n",
    "        for iconExtension in ['.svg', '.png']:\n",
    "          iconPath = os.path.join(moduleDir, 'Resources/Icons', self.__class__.__name__ + iconExtension)\n",
    "          if os.path.isfile(iconPath):\n",
    "            parent.icon = qt.QIcon(iconPath)\n",
    "            break"
   ]
  },
  {
   "cell_type": "code",
   "execution_count": null,
   "id": "54cba67a-af7c-423c-b73f-9e806102f2a5",
   "metadata": {},
   "outputs": [],
   "source": [
    "class MRICTRegistrationCryoWidget(ScriptedLoadableModuleWidget, VTKObservationMixin):\n",
    "    \"\"\"Uses ScriptedLoadableModuleWidget base class, available at:\n",
    "    https://github.com/Slicer/Slicer/blob/main/Base/Python/slicer/ScriptedLoadableModule.py\n",
    "    \"\"\"\n",
    "\n",
    "    def __init__(self, parent=None):\n",
    "        \n",
    "        ScriptedLoadableModuleWidget.__init__(self, parent)\n",
    "        self.logic = None\n",
    "        self._parameterNode = None\n",
    "        self._updatingGUIFromParameterNode = False\n",
    "\n",
    "    def setup(self):\n",
    "        \n",
    "        ScriptedLoadableModuleWidget.setup(self)\n",
    "\n",
    "        # IO collapsible button\n",
    "        IOCategory = qt.QWidget()\n",
    "        self.layout.addWidget(IOCategory)\n",
    "        IOLayout = qt.QFormLayout(IOCategory)\n",
    "        self.logic = MRICTRegistrationCryo()\n",
    "        \n",
    "        self.inputFixedImageSelector = slicer.qMRMLNodeComboBox()\n",
    "        self.inputFixedImageSelector.nodeTypes = [\"vtkMRMLScalarVolumeNode\"]\n",
    "        self.inputFixedImageSelector.selectNodeUponCreation = False\n",
    "        self.inputFixedImageSelector.noneEnabled = False\n",
    "        self.inputFixedImageSelector.addEnabled = False\n",
    "        self.inputFixedImageSelector.removeEnabled = True\n",
    "        self.inputFixedImageSelector.setMRMLScene(slicer.mrmlScene)\n",
    "        IOLayout.addRow(\"Input Fixed Image: \", self.inputFixedImageSelector)\n",
    "\n",
    "        self.inputMovingImageSelector = slicer.qMRMLNodeComboBox()\n",
    "        self.inputMovingImageSelector.nodeTypes = [\"vtkMRMLScalarVolumeNode\"]\n",
    "        self.inputMovingImageSelector.selectNodeUponCreation = False\n",
    "        self.inputMovingImageSelector.noneEnabled = False\n",
    "        self.inputMovingImageSelector.addEnabled = False\n",
    "        self.inputMovingImageSelector.removeEnabled = True\n",
    "        self.inputMovingImageSelector.setMRMLScene(slicer.mrmlScene)\n",
    "        IOLayout.addRow(\"Input Moving Image: \", self.inputMovingImageSelector)\n",
    "\n",
    "        self.outputImageSelector = slicer.qMRMLNodeComboBox()\n",
    "        self.outputImageSelector.nodeTypes = [\"vtkMRMLScalarVolumeNode\"]\n",
    "        self.outputImageSelector.selectNodeUponCreation = False\n",
    "        self.outputImageSelector.noneEnabled = False\n",
    "        self.outputImageSelector.addEnabled = False\n",
    "        self.outputImageSelector.removeEnabled = True\n",
    "        self.outputImageSelector.setMRMLScene(slicer.mrmlScene)\n",
    "        IOLayout.addRow(\"Output Image: \", self.outputImageSelector)\n",
    "        \n",
    "        self.applyButton.connect('clicked(bool)', self.onApplyButton)\n",
    "        # Make sure parameter node is initialized (needed for module reload)\n",
    "        self.initializeParameterNode()\n"
   ]
  },
  {
   "cell_type": "code",
   "execution_count": null,
   "id": "f7f7fad1-3c47-4e6a-96e3-b123d032ee99",
   "metadata": {},
   "outputs": [],
   "source": []
  },
  {
   "cell_type": "code",
   "execution_count": null,
   "id": "fbac15de-9e0c-4191-a4d3-2dd9810da906",
   "metadata": {},
   "outputs": [],
   "source": []
  }
 ],
 "metadata": {
  "kernelspec": {
   "display_name": "Python 3",
   "language": "python",
   "name": "python3"
  },
  "language_info": {
   "codemirror_mode": {
    "name": "ipython",
    "version": 3
   },
   "file_extension": ".py",
   "mimetype": "text/x-python",
   "name": "python",
   "nbconvert_exporter": "python",
   "pygments_lexer": "ipython3",
   "version": "3.10.1"
  }
 },
 "nbformat": 4,
 "nbformat_minor": 5
}
